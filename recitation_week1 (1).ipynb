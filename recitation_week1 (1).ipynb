{
 "cells": [
  {
   "cell_type": "markdown",
   "metadata": {},
   "source": [
    "# Recitation: Week 1\n",
    "\n",
    "## Topics\n",
    "\n",
    "* Scala encodings of:\n",
    "  * Algebraic Datatypes\n",
    "  * Functions\n",
    "  * Pattern Matching\n",
    "\n",
    "## Defining Types\n",
    "\n",
    "We saw this week that we can define new types when we feel they will be useful and have some meaning in our Formal System. The first example we saw was the Booleans($\\mathbb{B}$). Here is a refresher of the defintion:\n",
    "\n",
    "$$\n",
    "\\begin{align}\n",
    "\\mathbb{B} := \\text{true}\\ \\mid\\ \\text{false}\n",
    "\\end{align}\n",
    "$$\n",
    "\n",
    "Below we will now write this definition in Scala:"
   ]
  },
  {
   "cell_type": "code",
   "execution_count": 1,
   "metadata": {},
   "outputs": [
    {
     "data": {
      "text/plain": [
       "defined \u001b[32mtrait\u001b[39m \u001b[36mBool\u001b[39m\n",
       "defined \u001b[32mobject\u001b[39m \u001b[36mTrue\u001b[39m\n",
       "defined \u001b[32mobject\u001b[39m \u001b[36mFalse\u001b[39m"
      ]
     },
     "execution_count": 1,
     "metadata": {},
     "output_type": "execute_result"
    }
   ],
   "source": [
    "sealed trait Bool\n",
    "case object True extends Bool\n",
    "case object False extends Bool"
   ]
  },
  {
   "cell_type": "markdown",
   "metadata": {},
   "source": [
    "### Some Boolean Values\n",
    "\n",
    "We can test that this works by trying to construct some values of Bool. There are only two so this should be fairly easy."
   ]
  },
  {
   "cell_type": "code",
   "execution_count": 2,
   "metadata": {},
   "outputs": [
    {
     "data": {
      "text/plain": [
       "\u001b[36mt\u001b[39m: \u001b[32mTrue\u001b[39m.type = True\n",
       "\u001b[36mf\u001b[39m: \u001b[32mFalse\u001b[39m.type = False\n",
       "\u001b[36ma\u001b[39m: \u001b[32mTrue\u001b[39m.type = True"
      ]
     },
     "execution_count": 2,
     "metadata": {},
     "output_type": "execute_result"
    }
   ],
   "source": [
    "val t = True\n",
    "val f = False\n",
    "var a = True "
   ]
  },
  {
   "cell_type": "markdown",
   "metadata": {},
   "source": [
    "## Defining Functions \n",
    "\n",
    "The next thing we might want to do is define some functions on the Booleans. This should be fairly simple to do. Let's start with the simple identity function. Identity takes in some boolean and returns that same boolean. Formally, we write this as:\n",
    "\n",
    "$$\n",
    "\\begin{align}\n",
    "\\text{id}& : \\mathbb{B} \\rightarrow \\mathbb{B}\\\\\n",
    "\\text{id}&\\ x = x\n",
    "\\end{align}\n",
    "$$\n",
    "\n",
    "And in Scala:"
   ]
  },
  {
   "cell_type": "code",
   "execution_count": 4,
   "metadata": {},
   "outputs": [
    {
     "data": {
      "text/plain": [
       "defined \u001b[32mfunction\u001b[39m \u001b[36mid\u001b[39m\n",
       "\u001b[36mres3_1\u001b[39m: \u001b[32mBool\u001b[39m = True\n",
       "\u001b[36mres3_2\u001b[39m: \u001b[32mBool\u001b[39m = False"
      ]
     },
     "execution_count": 4,
     "metadata": {},
     "output_type": "execute_result"
    }
   ],
   "source": [
    "def id (x : Bool) : Bool = \n",
    "    x \n",
    "id(True)\n",
    "id(False)"
   ]
  },
  {
   "cell_type": "markdown",
   "metadata": {},
   "source": [
    "Now we can try to define some more interesting functions. Lets do negation of Booleans.\n",
    "\n",
    "$$\n",
    "\\begin{align}\n",
    "\\text{not}& : \\mathbb{B} \\rightarrow \\mathbb{B}\\\\\n",
    "\\text{not}& \\text{true}\\ = \\text{false}\\\\\n",
    "\\text{not}& \\text{false}\\ = \\text{true}\n",
    "\\end{align}\n",
    "$$\n"
   ]
  },
  {
   "cell_type": "code",
   "execution_count": 6,
   "metadata": {},
   "outputs": [
    {
     "data": {
      "text/plain": [
       "defined \u001b[32mfunction\u001b[39m \u001b[36mnot\u001b[39m\n",
       "\u001b[36mres5_1\u001b[39m: \u001b[32mBool\u001b[39m = True\n",
       "\u001b[36mres5_2\u001b[39m: \u001b[32mBool\u001b[39m = False"
      ]
     },
     "execution_count": 6,
     "metadata": {},
     "output_type": "execute_result"
    }
   ],
   "source": [
    "def not(x : Bool) : Bool = \n",
    "    x match {\n",
    "        case True => False \n",
    "        case False => True \n",
    "    }\n",
    "\n",
    "not(False)\n",
    "not(t)"
   ]
  },
  {
   "cell_type": "markdown",
   "metadata": {},
   "source": [
    "## More Boolean Functions\n",
    "\n",
    "### And"
   ]
  },
  {
   "cell_type": "code",
   "execution_count": 11,
   "metadata": {},
   "outputs": [
    {
     "data": {
      "text/plain": [
       "defined \u001b[32mfunction\u001b[39m \u001b[36mand1\u001b[39m\n",
       "defined \u001b[32mfunction\u001b[39m \u001b[36mand2\u001b[39m\n",
       "defined \u001b[32mfunction\u001b[39m \u001b[36mand\u001b[39m"
      ]
     },
     "execution_count": 11,
     "metadata": {},
     "output_type": "execute_result"
    }
   ],
   "source": [
    "def and1(x: Bool, y : Bool) : Bool = \n",
    "    x match {\n",
    "        case True => y match{\n",
    "            case True => True\n",
    "            case False => False\n",
    "        }\n",
    "        case False => False \n",
    "    }\n",
    "\n",
    "def and2(x : Bool, y : Bool) : Bool =\n",
    "    (x,y) match{\n",
    "        case (True, True) => True\n",
    "        case (True, False) => False\n",
    "        case (False, True) => False\n",
    "        case (False, False) => False\n",
    "    }\n",
    "\n",
    "def and(x : Bool, y : Bool) : Bool = \n",
    "    (x,y) match {\n",
    "        case (True, True) => True\n",
    "        case _ => False\n",
    "    }"
   ]
  },
  {
   "cell_type": "code",
   "execution_count": 12,
   "metadata": {},
   "outputs": [
    {
     "data": {
      "text/plain": [
       "\u001b[36mres11_0\u001b[39m: \u001b[32mBool\u001b[39m = True\n",
       "\u001b[36mres11_1\u001b[39m: \u001b[32mBool\u001b[39m = False\n",
       "\u001b[36mres11_2\u001b[39m: \u001b[32mBool\u001b[39m = False\n",
       "\u001b[36mres11_3\u001b[39m: \u001b[32mBool\u001b[39m = False\n",
       "\u001b[36mres11_4\u001b[39m: \u001b[32mBool\u001b[39m = False"
      ]
     },
     "execution_count": 12,
     "metadata": {},
     "output_type": "execute_result"
    }
   ],
   "source": [
    "and1(t,t)\n",
    "and1(t,f)\n",
    "and1(f,t)\n",
    "and1(f,f)\n",
    "\n",
    "and(t,f)"
   ]
  },
  {
   "cell_type": "markdown",
   "metadata": {},
   "source": [
    "### Or"
   ]
  },
  {
   "cell_type": "code",
   "execution_count": 8,
   "metadata": {},
   "outputs": [
    {
     "data": {
      "text/plain": [
       "defined \u001b[32mfunction\u001b[39m \u001b[36mor\u001b[39m\n",
       "\u001b[36mres7_1\u001b[39m: \u001b[32mBool\u001b[39m = False"
      ]
     },
     "execution_count": 8,
     "metadata": {},
     "output_type": "execute_result"
    }
   ],
   "source": [
    "def or(x : Bool, y : Bool) : Bool = \n",
    "    x match {\n",
    "        case True => True\n",
    "        case False => y match {\n",
    "            case True => True\n",
    "            case False => False \n",
    "        }\n",
    "    }\n",
    "\n",
    "or(False,False)"
   ]
  },
  {
   "cell_type": "markdown",
   "metadata": {},
   "source": [
    "### XOR"
   ]
  },
  {
   "cell_type": "code",
   "execution_count": 13,
   "metadata": {},
   "outputs": [
    {
     "data": {
      "text/plain": [
       "defined \u001b[32mfunction\u001b[39m \u001b[36mxor\u001b[39m"
      ]
     },
     "execution_count": 13,
     "metadata": {},
     "output_type": "execute_result"
    }
   ],
   "source": [
    "def xor(x : Bool, y : Bool) : Bool = \n",
    "    (x,y) match {\n",
    "        case (True, True) => False\n",
    "        case (True, False) => True\n",
    "        case (False, True) => True\n",
    "        case (False, False) => False \n",
    "    }"
   ]
  },
  {
   "cell_type": "markdown",
   "metadata": {},
   "source": [
    "### Nand\n",
    "\n",
    "Try to define this one in two different ways: with and without pattern matching"
   ]
  },
  {
   "cell_type": "code",
   "execution_count": 14,
   "metadata": {},
   "outputs": [
    {
     "data": {
      "text/plain": [
       "defined \u001b[32mfunction\u001b[39m \u001b[36mnand1\u001b[39m"
      ]
     },
     "execution_count": 14,
     "metadata": {},
     "output_type": "execute_result"
    }
   ],
   "source": [
    "def nand1(x : Bool, y : Bool) : Bool = \n",
    "    (x,y) match {\n",
    "        case (True, True) => False\n",
    "        case (True, False) => True\n",
    "        case (False, True) => True\n",
    "        case (False, False) => False \n",
    "    }"
   ]
  },
  {
   "cell_type": "code",
   "execution_count": 15,
   "metadata": {},
   "outputs": [
    {
     "data": {
      "text/plain": [
       "defined \u001b[32mfunction\u001b[39m \u001b[36mnand2\u001b[39m"
      ]
     },
     "execution_count": 15,
     "metadata": {},
     "output_type": "execute_result"
    }
   ],
   "source": [
    "def nand2(x : Bool, y : Bool) : Bool =\n",
    "    not(and(x,y))"
   ]
  },
  {
   "cell_type": "markdown",
   "metadata": {},
   "source": [
    "## Algebraic Datatypes\n",
    "\n",
    "We can also encode more complication Algebraic Datatypes in Scala such as the Natural Numbers, Lists, Maybe, and more.\n",
    "\n",
    "Let's now encode the natural numbers:\n",
    "\n",
    "$$\n",
    "\\begin{align}\n",
    "\\mathbb{N} :=&\\ \\text{zero} \\\\\n",
    "\\mid&\\ \\text{succ}\\ \\mathbb{N}\n",
    "\\end{align}\n",
    "$$"
   ]
  },
  {
   "cell_type": "code",
   "execution_count": 16,
   "metadata": {},
   "outputs": [
    {
     "data": {
      "text/plain": [
       "defined \u001b[32mtrait\u001b[39m \u001b[36mNat\u001b[39m\n",
       "defined \u001b[32mobject\u001b[39m \u001b[36mZero\u001b[39m\n",
       "defined \u001b[32mclass\u001b[39m \u001b[36mSucc\u001b[39m"
      ]
     },
     "execution_count": 16,
     "metadata": {},
     "output_type": "execute_result"
    }
   ],
   "source": [
    "sealed trait Nat\n",
    "case object Zero extends Nat\n",
    "case class Succ(pred : Nat) extends Nat "
   ]
  },
  {
   "cell_type": "markdown",
   "metadata": {},
   "source": [
    "As a sanity check we can also define some values of type Nat:"
   ]
  },
  {
   "cell_type": "code",
   "execution_count": 21,
   "metadata": {},
   "outputs": [
    {
     "data": {
      "text/plain": [
       "defined \u001b[32mfunction\u001b[39m \u001b[36mone\u001b[39m\n",
       "defined \u001b[32mfunction\u001b[39m \u001b[36mtwo\u001b[39m\n",
       "defined \u001b[32mfunction\u001b[39m \u001b[36mtwo_prime\u001b[39m\n",
       "defined \u001b[32mfunction\u001b[39m \u001b[36mthree\u001b[39m\n",
       "defined \u001b[32mfunction\u001b[39m \u001b[36mfive\u001b[39m\n",
       "\u001b[36mres20_5\u001b[39m: \u001b[32mBoolean\u001b[39m = \u001b[32mtrue\u001b[39m"
      ]
     },
     "execution_count": 21,
     "metadata": {},
     "output_type": "execute_result"
    }
   ],
   "source": [
    "def one = Succ( Zero )\n",
    "def two = Succ( Succ (Zero))\n",
    "def two_prime = Succ( one )\n",
    "def three = Succ( two )\n",
    "def five = Succ(Succ(three))\n",
    "two == two_prime"
   ]
  },
  {
   "cell_type": "markdown",
   "metadata": {},
   "source": [
    "## Plus\n",
    "\n",
    "Now define the plus function as we defined it in class:"
   ]
  },
  {
   "cell_type": "code",
   "execution_count": 19,
   "metadata": {},
   "outputs": [
    {
     "data": {
      "text/plain": [
       "defined \u001b[32mfunction\u001b[39m \u001b[36mplus\u001b[39m"
      ]
     },
     "execution_count": 19,
     "metadata": {},
     "output_type": "execute_result"
    }
   ],
   "source": [
    "def plus(x : Nat, y : Nat) : Nat = \n",
    "    x match {\n",
    "        case Zero => y\n",
    "        case Succ(p) => plus(p, Succ(y))\n",
    "    }"
   ]
  },
  {
   "cell_type": "code",
   "execution_count": 22,
   "metadata": {},
   "outputs": [
    {
     "data": {
      "text/plain": [
       "\u001b[36mres21_0\u001b[39m: \u001b[32mNat\u001b[39m = Succ(Succ(Succ(Succ(Succ(Zero)))))\n",
       "\u001b[36mres21_1\u001b[39m: \u001b[32mBoolean\u001b[39m = \u001b[32mtrue\u001b[39m"
      ]
     },
     "execution_count": 22,
     "metadata": {},
     "output_type": "execute_result"
    }
   ],
   "source": [
    "plus(two, three)\n",
    "plus(two, three) == five"
   ]
  },
  {
   "cell_type": "markdown",
   "metadata": {},
   "source": [
    "This week's homework will explore functions on the natural numbers along with some more ADT definitions"
   ]
  },
  {
   "cell_type": "code",
   "execution_count": null,
   "metadata": {},
   "outputs": [],
   "source": []
  }
 ],
 "metadata": {
  "kernelspec": {
   "display_name": "Scala",
   "language": "scala",
   "name": "scala"
  },
  "language_info": {
   "codemirror_mode": "text/x-scala",
   "file_extension": ".scala",
   "mimetype": "text/x-scala",
   "name": "scala211",
   "nbconvert_exporter": "script",
   "pygments_lexer": "scala",
   "version": "2.11.11"
  }
 },
 "nbformat": 4,
 "nbformat_minor": 2
}
